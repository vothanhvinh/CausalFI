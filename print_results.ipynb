{
 "cells": [
  {
   "cell_type": "markdown",
   "id": "f5239439",
   "metadata": {},
   "source": [
    "# Synthetic data"
   ]
  },
  {
   "cell_type": "code",
   "execution_count": null,
   "id": "99f915f4",
   "metadata": {},
   "outputs": [],
   "source": [
    "import numpy as np\n",
    "import scipy\n",
    "# Print results for m = 10 sources, averaging over 10 replicates\n",
    "m=10 \n",
    "file_name = 'save_outputs/synthetic_test_stats_m{}_replicate{}.npz'\n",
    "test_stats = np.concatenate([np.load(file_name.format(m,i))['test_stats']\n",
    "                      for i in range(1,10+1)],axis=0)\n",
    "print(test_stats)\n",
    "print('Mean of MAE & sqrt(PEHE):', np.mean(test_stats,axis=0))\n",
    "print('Standard error of MAE & sqrt(PEHE):', scipy.stats.sem(test_stats,axis=0))"
   ]
  },
  {
   "cell_type": "markdown",
   "id": "c887107d",
   "metadata": {},
   "source": [
    "# IHDP data"
   ]
  },
  {
   "cell_type": "code",
   "execution_count": null,
   "id": "5545c72f",
   "metadata": {},
   "outputs": [],
   "source": [
    "import numpy as np\n",
    "import scipy\n",
    "# Print results for m = 10 sources, averaging over 10 replicates\n",
    "m=10 \n",
    "file_name = 'save_outputs/ihdp_test_stats_m{}_replicate{}.npz'\n",
    "test_stats = np.concatenate([np.load(file_name.format(m,i))['test_stats']\n",
    "                      for i in range(1,10+1)],axis=0)\n",
    "print(test_stats)\n",
    "print('Mean of MAE & sqrt(PEHE):', np.mean(test_stats,axis=0))\n",
    "print('Standard error of MAE & sqrt(PEHE):', scipy.stats.sem(test_stats,axis=0))"
   ]
  }
 ],
 "metadata": {
  "kernelspec": {
   "display_name": "Python 3 (ipykernel)",
   "language": "python",
   "name": "python3"
  },
  "language_info": {
   "codemirror_mode": {
    "name": "ipython",
    "version": 3
   },
   "file_extension": ".py",
   "mimetype": "text/x-python",
   "name": "python",
   "nbconvert_exporter": "python",
   "pygments_lexer": "ipython3",
   "version": "3.11.3"
  }
 },
 "nbformat": 4,
 "nbformat_minor": 5
}
